{
 "cells": [
  {
   "cell_type": "code",
   "execution_count": 1,
   "id": "initial_id",
   "metadata": {
    "collapsed": true,
    "ExecuteTime": {
     "end_time": "2024-01-19T07:24:08.516386700Z",
     "start_time": "2024-01-19T07:24:07.797427700Z"
    }
   },
   "outputs": [],
   "source": [
    "import pyupbit "
   ]
  },
  {
   "cell_type": "code",
   "execution_count": 6,
   "outputs": [
    {
     "data": {
      "text/plain": "                           open        high         low       close    volume  \\\n2024-01-19 13:07:00  56529000.0  56546000.0  56518000.0  56520000.0  4.335567   \n2024-01-19 13:08:00  56520000.0  56522000.0  56502000.0  56505000.0  3.827885   \n2024-01-19 13:09:00  56505000.0  56505000.0  56500000.0  56504000.0  3.117344   \n2024-01-19 13:10:00  56503000.0  56504000.0  56491000.0  56498000.0  3.125205   \n2024-01-19 13:11:00  56500000.0  56500000.0  56495000.0  56498000.0  1.104268   \n...                         ...         ...         ...         ...       ...   \n2024-01-19 16:22:00  57167000.0  57167000.0  57071000.0  57164000.0  9.332632   \n2024-01-19 16:23:00  57162000.0  57165000.0  57102000.0  57112000.0  5.066704   \n2024-01-19 16:24:00  57113000.0  57161000.0  57099000.0  57160000.0  2.210000   \n2024-01-19 16:25:00  57160000.0  57174000.0  57092000.0  57170000.0  5.388455   \n2024-01-19 16:26:00  57170000.0  57201000.0  57160000.0  57160000.0  3.061735   \n\n                            value  \n2024-01-19 13:07:00  2.450643e+08  \n2024-01-19 13:08:00  2.163180e+08  \n2024-01-19 13:09:00  1.761373e+08  \n2024-01-19 13:10:00  1.765755e+08  \n2024-01-19 13:11:00  6.239022e+07  \n...                           ...  \n2024-01-19 16:22:00  5.330849e+08  \n2024-01-19 16:23:00  2.894419e+08  \n2024-01-19 16:24:00  1.262467e+08  \n2024-01-19 16:25:00  3.079909e+08  \n2024-01-19 16:26:00  1.750389e+08  \n\n[200 rows x 6 columns]",
      "text/html": "<div>\n<style scoped>\n    .dataframe tbody tr th:only-of-type {\n        vertical-align: middle;\n    }\n\n    .dataframe tbody tr th {\n        vertical-align: top;\n    }\n\n    .dataframe thead th {\n        text-align: right;\n    }\n</style>\n<table border=\"1\" class=\"dataframe\">\n  <thead>\n    <tr style=\"text-align: right;\">\n      <th></th>\n      <th>open</th>\n      <th>high</th>\n      <th>low</th>\n      <th>close</th>\n      <th>volume</th>\n      <th>value</th>\n    </tr>\n  </thead>\n  <tbody>\n    <tr>\n      <th>2024-01-19 13:07:00</th>\n      <td>56529000.0</td>\n      <td>56546000.0</td>\n      <td>56518000.0</td>\n      <td>56520000.0</td>\n      <td>4.335567</td>\n      <td>2.450643e+08</td>\n    </tr>\n    <tr>\n      <th>2024-01-19 13:08:00</th>\n      <td>56520000.0</td>\n      <td>56522000.0</td>\n      <td>56502000.0</td>\n      <td>56505000.0</td>\n      <td>3.827885</td>\n      <td>2.163180e+08</td>\n    </tr>\n    <tr>\n      <th>2024-01-19 13:09:00</th>\n      <td>56505000.0</td>\n      <td>56505000.0</td>\n      <td>56500000.0</td>\n      <td>56504000.0</td>\n      <td>3.117344</td>\n      <td>1.761373e+08</td>\n    </tr>\n    <tr>\n      <th>2024-01-19 13:10:00</th>\n      <td>56503000.0</td>\n      <td>56504000.0</td>\n      <td>56491000.0</td>\n      <td>56498000.0</td>\n      <td>3.125205</td>\n      <td>1.765755e+08</td>\n    </tr>\n    <tr>\n      <th>2024-01-19 13:11:00</th>\n      <td>56500000.0</td>\n      <td>56500000.0</td>\n      <td>56495000.0</td>\n      <td>56498000.0</td>\n      <td>1.104268</td>\n      <td>6.239022e+07</td>\n    </tr>\n    <tr>\n      <th>...</th>\n      <td>...</td>\n      <td>...</td>\n      <td>...</td>\n      <td>...</td>\n      <td>...</td>\n      <td>...</td>\n    </tr>\n    <tr>\n      <th>2024-01-19 16:22:00</th>\n      <td>57167000.0</td>\n      <td>57167000.0</td>\n      <td>57071000.0</td>\n      <td>57164000.0</td>\n      <td>9.332632</td>\n      <td>5.330849e+08</td>\n    </tr>\n    <tr>\n      <th>2024-01-19 16:23:00</th>\n      <td>57162000.0</td>\n      <td>57165000.0</td>\n      <td>57102000.0</td>\n      <td>57112000.0</td>\n      <td>5.066704</td>\n      <td>2.894419e+08</td>\n    </tr>\n    <tr>\n      <th>2024-01-19 16:24:00</th>\n      <td>57113000.0</td>\n      <td>57161000.0</td>\n      <td>57099000.0</td>\n      <td>57160000.0</td>\n      <td>2.210000</td>\n      <td>1.262467e+08</td>\n    </tr>\n    <tr>\n      <th>2024-01-19 16:25:00</th>\n      <td>57160000.0</td>\n      <td>57174000.0</td>\n      <td>57092000.0</td>\n      <td>57170000.0</td>\n      <td>5.388455</td>\n      <td>3.079909e+08</td>\n    </tr>\n    <tr>\n      <th>2024-01-19 16:26:00</th>\n      <td>57170000.0</td>\n      <td>57201000.0</td>\n      <td>57160000.0</td>\n      <td>57160000.0</td>\n      <td>3.061735</td>\n      <td>1.750389e+08</td>\n    </tr>\n  </tbody>\n</table>\n<p>200 rows × 6 columns</p>\n</div>"
     },
     "execution_count": 6,
     "metadata": {},
     "output_type": "execute_result"
    }
   ],
   "source": [
    "pyupbit.get_ohlcv(\"KRW-BTC\",interval='minute1')"
   ],
   "metadata": {
    "collapsed": false,
    "ExecuteTime": {
     "end_time": "2024-01-19T07:26:51.197536Z",
     "start_time": "2024-01-19T07:26:51.121837700Z"
    }
   },
   "id": "ada3a885e2e03601"
  },
  {
   "cell_type": "code",
   "execution_count": null,
   "outputs": [],
   "source": [],
   "metadata": {
    "collapsed": false
   },
   "id": "3b8527562600fe80"
  }
 ],
 "metadata": {
  "kernelspec": {
   "display_name": "Python 3",
   "language": "python",
   "name": "python3"
  },
  "language_info": {
   "codemirror_mode": {
    "name": "ipython",
    "version": 2
   },
   "file_extension": ".py",
   "mimetype": "text/x-python",
   "name": "python",
   "nbconvert_exporter": "python",
   "pygments_lexer": "ipython2",
   "version": "2.7.6"
  }
 },
 "nbformat": 4,
 "nbformat_minor": 5
}
